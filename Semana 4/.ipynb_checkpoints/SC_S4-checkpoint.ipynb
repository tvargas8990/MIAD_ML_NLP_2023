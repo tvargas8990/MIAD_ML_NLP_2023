{
 "cells": [
  {
   "cell_type": "code",
   "execution_count": 6,
   "id": "d2bd4b39-b732-46f1-bf33-d68ab7418238",
   "metadata": {},
   "outputs": [
    {
     "data": {
      "text/plain": [
       "'Este lunes, de cara a una semana clave para la reforma a la salud en el Congreso de la República, David Racero, presidente de la Cámara de Representantes, habló sobre las expectativas de la bancada de Gobierno en torno a la iniciativa. De acuerdo con el congresista, esta lograría aprobarse en primer debate entre el miércoles y el jueves. “Se ha venido tejiendo de manera muy cuidadosa el acuerdo final respecto al proyecto de salud definitivo. Esperamos que esta semana se apruebe la ponencia positiva y el articulado. Es decir, en dos semanas estaríamos aprobando la reforma a la salud en la plenaria de la Cámara”, manifestó el presidente de esa corporación. La idea, según Racero, es lograr los acuerdos con los partidos para la aprobación de la reforma en la Comisión Séptima de la Cámara de Representantes. De esta forma, se facilitará la aprobación en los próximos debates. “Así que estamos en el momento de mayor tensión, de mayor diálogo en los puntos más neurálgicos, pero seguimos con el optimismo. Se van a reunir las bancadas de los partidos entre hoy y mañana. Esperamos que entre el miércoles y el jueves se tenga la votación positiva”, agregó Racero. Con respecto al Plan Nacional de Desarrollo, que muchos critican por la demora en el trámite, el presidente de la Cámara de Representantes asegura que hay tiempo para su aprobación. “Sí o sí tiene que aprobarse la próxima semana. He hablado con el presidente del Senado, Roy Barreras. La idea es que el próximo martes, 2 de mayo, se tengan simultáneamente las plenarias, tanto en Senado y en Cámara, de la votación del Plan Nacional de Desarrollo. Si se nos extiende hasta el 3 de mayo en las diferentes plenarias, por tarde el 5 de mayo se tiene que votar conciliación”, indicó el representante del Pacto Histórico. Racero recordó que un Plan Nacional de Desarrollo nunca se ha pasado por decreto. “No creo que este Congreso permita eso, la discusión ha sido amplia y bien profunda. La próxima semana lo votaremos”. A partir de un comunicado compartido el pasado 23 de abril, el Ministerio de Salud reveló detalles sobre la enmienda que construyeron los ponentes de la reforma a la salud en la Comisión Séptima de la Cámara de Representantes. El texto busca salvar al proyecto de ley, que ha recibido múltiples críticas. Según el Ministerio de Salud esta serie de ajustes “se centra en resolver las barreras que padecen millones de pacientes”. “De la ponencia radicada, inicialmente de 156 artículos, alrededor 60 fueron modificados, es decir, aproximadamente un 40 % del proyecto original. La enmienda que se apresta a discutir la Comisión Séptima de la Cámara tiene 139 artículos, de los cuales 40 son nuevos”, sostuvo el Ministerio de Salud en su comunicado. Se espera que el presidente de la Comisión Séptima de la Cámara, Agmeth Escaf, cite a los representantes el próximo martes 25 de abril para debatir la reforma a la salud y los ajustes que se le han hecho. Entre otros detalles que incluiría el nuevo texto, el Ministerio de Salud señaló que habrá “medidas que van desde la atención rápida a pacientes con enfermedades crónicas, hasta mecanismos para el control de precios de los medicamentos”. Señaló que la Superintendencia Nacional de Salud tendría facultades de carácter jurisdiccional y podría “conocer, tramitar y fallar con carácter definitivo, con las facultades propias de un juez”. Estas funciones las podrá ejercer una vez encuentre que hay fallas que comprometen directamente la vida de los pacientes. La enmienda, además, “crea el concepto de servicios sociales complementarios para que los pacientes en condición de pobreza puedan tener acceso a servicios de salud en sitios diferentes de donde residen y su condición socioeconómica les impide proporcionárselos por sí mismos”. Por ello, los pacientes podrán tener acceso a servicios denominados “sociales y complementarios”, entre los cuales estarían “el transporte, hospedaje, acompañantes y cuidados crónicos de enfermería en casa”. Se trata de una propuesta que promete dar de qué hablar, más aún porque le daría potestad al Gobierno nacional para determinar cómo se llevarán a cabo estos servicios sociales, cómo se financiarán y a qué poblaciones del país cubrirían. El texto también tocará otro aspecto clave para el sistema de salud colombiano, pues plantea que habrá una nueva política de medicamentos y producción de vacunas. “Con el objetivo de facilitar el acceso a medicamentos, en condiciones de precios justos para el sistema y para los usuarios, la reforma a la salud plantea cambios en la política farmacéutica. De acuerdo con el texto de la enmienda, el Gobierno nacional formulará cada cuatro años la Política Farmacéutica Nacional de insumos y tecnologías en salud”, sostuvo el Ministerio de Salud. Desde ya, adelantaron que habrá mecanismos de compra conjunta de medicamentos esenciales, acciones de transferencia tecnológica y un respaldo a la producción farmacéutica nacional que se enfoque en moléculas no protegidas con patentes. Y se conoció que planteará unas acciones de seguimiento para revisar los impactos de esta política pública año tras año. “En un nuevo artículo, incluido en la enmienda, se eliminan trámites innecesarios ante el Invima, en casos de licencias y permisos sanitarios, a fin de agilizar su expedición, renovación o modificación”, aseveró la cartera ministerial de Salud.'"
      ]
     },
     "execution_count": 6,
     "metadata": {},
     "output_type": "execute_result"
    }
   ],
   "source": [
    "from sklearn.feature_extraction.text import TfidfVectorizer, CountVectorizer\n",
    "import numpy as np\n",
    "import pandas as pd\n",
    "import nltk\n",
    "\n",
    "df = pd.read_csv(\"noticias_sample.csv\").dropna()\n",
    "df.iloc[3, 0]"
   ]
  },
  {
   "cell_type": "code",
   "execution_count": 7,
   "id": "942250e3-1815-4970-b530-0e8d3300e0f2",
   "metadata": {},
   "outputs": [
    {
     "data": {
      "text/html": [
       "<div>\n",
       "<style scoped>\n",
       "    .dataframe tbody tr th:only-of-type {\n",
       "        vertical-align: middle;\n",
       "    }\n",
       "\n",
       "    .dataframe tbody tr th {\n",
       "        vertical-align: top;\n",
       "    }\n",
       "\n",
       "    .dataframe thead th {\n",
       "        text-align: right;\n",
       "    }\n",
       "</style>\n",
       "<table border=\"1\" class=\"dataframe\">\n",
       "  <thead>\n",
       "    <tr style=\"text-align: right;\">\n",
       "      <th></th>\n",
       "      <th>content</th>\n",
       "      <th>date</th>\n",
       "      <th>headline</th>\n",
       "      <th>description</th>\n",
       "    </tr>\n",
       "  </thead>\n",
       "  <tbody>\n",
       "    <tr>\n",
       "      <th>0</th>\n",
       "      <td>Esta semana, el Senado y la Cámara de Represen...</td>\n",
       "      <td>2022-11-10T18:42:14.884Z</td>\n",
       "      <td>“Con algunas excepciones, un abusivo es un pas...</td>\n",
       "      <td>El senador del Pacto Histórico se refirió al c...</td>\n",
       "    </tr>\n",
       "    <tr>\n",
       "      <th>1</th>\n",
       "      <td>Hace pocas horas, el expresidente interino de ...</td>\n",
       "      <td>2023-04-24T13:58:31.866Z</td>\n",
       "      <td>Gustavo Bolívar se pronunció sobre visita a Co...</td>\n",
       "      <td>El expresidente interino de Venezuela llegará ...</td>\n",
       "    </tr>\n",
       "    <tr>\n",
       "      <th>2</th>\n",
       "      <td>En medio de la preocupación que han elevado va...</td>\n",
       "      <td>2023-03-24T14:53:30.902Z</td>\n",
       "      <td>“Recibimos el país inundado en coca”: fuerte s...</td>\n",
       "      <td>El funcionario diplomático del Gobierno del pr...</td>\n",
       "    </tr>\n",
       "    <tr>\n",
       "      <th>3</th>\n",
       "      <td>Este lunes, de cara a una semana clave para la...</td>\n",
       "      <td>2023-04-24T20:03:25.019Z</td>\n",
       "      <td>“Esperamos que entre miércoles y jueves se ten...</td>\n",
       "      <td>El presidente de la Cámara de Representantes e...</td>\n",
       "    </tr>\n",
       "    <tr>\n",
       "      <th>4</th>\n",
       "      <td>Sin duda, el presidente Gustavo Petro, el mini...</td>\n",
       "      <td>2023-03-24T02:57:29.758Z</td>\n",
       "      <td>Tras fracaso de la reforma política, Gobierno ...</td>\n",
       "      <td>Aunque esa decisión se pudo tomar desde el sem...</td>\n",
       "    </tr>\n",
       "    <tr>\n",
       "      <th>...</th>\n",
       "      <td>...</td>\n",
       "      <td>...</td>\n",
       "      <td>...</td>\n",
       "      <td>...</td>\n",
       "    </tr>\n",
       "    <tr>\n",
       "      <th>495</th>\n",
       "      <td>Más de 50 representantes del sector emprendedo...</td>\n",
       "      <td>2022-10-19T00:18:36.429Z</td>\n",
       "      <td>“Nos toca irnos del país para seguir subsistie...</td>\n",
       "      <td>Los voceros de pequeñas y medianas empresas as...</td>\n",
       "    </tr>\n",
       "    <tr>\n",
       "      <th>496</th>\n",
       "      <td>Gilberto Tobón Sanín, excandidato al Senado de...</td>\n",
       "      <td>2022-11-30T05:02:30.124Z</td>\n",
       "      <td>“No le hago mandados a nadie, soy autónomo”: G...</td>\n",
       "      <td>El aspirante afirmó que su “compromiso es con ...</td>\n",
       "    </tr>\n",
       "    <tr>\n",
       "      <th>497</th>\n",
       "      <td>Las diferencias entre el senador de la bancada...</td>\n",
       "      <td>2022-11-30T15:18:07.075Z</td>\n",
       "      <td>Gustavo Bolívar arremete en contra del senador...</td>\n",
       "      <td>El ministro de Hacienda, presente en el debate...</td>\n",
       "    </tr>\n",
       "    <tr>\n",
       "      <th>498</th>\n",
       "      <td>En la tarde de este jueves, 24 de noviembre, e...</td>\n",
       "      <td>2022-11-25T04:26:26.611Z</td>\n",
       "      <td>El ministro del Interior, Alfonso Prada, fue d...</td>\n",
       "      <td>Con el Puerto Pisisí esperan mover 1. 630.000 ...</td>\n",
       "    </tr>\n",
       "    <tr>\n",
       "      <th>499</th>\n",
       "      <td>La vicepresidenta Francia Márquez, del Pacto H...</td>\n",
       "      <td>2022-08-26T20:30:30.314Z</td>\n",
       "      <td>“Termina una gesta jurídica”: respuesta de Fra...</td>\n",
       "      <td>Márquez habló de lo sucedido con el congresist...</td>\n",
       "    </tr>\n",
       "  </tbody>\n",
       "</table>\n",
       "<p>492 rows × 4 columns</p>\n",
       "</div>"
      ],
      "text/plain": [
       "                                               content  \\\n",
       "0    Esta semana, el Senado y la Cámara de Represen...   \n",
       "1    Hace pocas horas, el expresidente interino de ...   \n",
       "2    En medio de la preocupación que han elevado va...   \n",
       "3    Este lunes, de cara a una semana clave para la...   \n",
       "4    Sin duda, el presidente Gustavo Petro, el mini...   \n",
       "..                                                 ...   \n",
       "495  Más de 50 representantes del sector emprendedo...   \n",
       "496  Gilberto Tobón Sanín, excandidato al Senado de...   \n",
       "497  Las diferencias entre el senador de la bancada...   \n",
       "498  En la tarde de este jueves, 24 de noviembre, e...   \n",
       "499  La vicepresidenta Francia Márquez, del Pacto H...   \n",
       "\n",
       "                         date  \\\n",
       "0    2022-11-10T18:42:14.884Z   \n",
       "1    2023-04-24T13:58:31.866Z   \n",
       "2    2023-03-24T14:53:30.902Z   \n",
       "3    2023-04-24T20:03:25.019Z   \n",
       "4    2023-03-24T02:57:29.758Z   \n",
       "..                        ...   \n",
       "495  2022-10-19T00:18:36.429Z   \n",
       "496  2022-11-30T05:02:30.124Z   \n",
       "497  2022-11-30T15:18:07.075Z   \n",
       "498  2022-11-25T04:26:26.611Z   \n",
       "499  2022-08-26T20:30:30.314Z   \n",
       "\n",
       "                                              headline  \\\n",
       "0    “Con algunas excepciones, un abusivo es un pas...   \n",
       "1    Gustavo Bolívar se pronunció sobre visita a Co...   \n",
       "2    “Recibimos el país inundado en coca”: fuerte s...   \n",
       "3    “Esperamos que entre miércoles y jueves se ten...   \n",
       "4    Tras fracaso de la reforma política, Gobierno ...   \n",
       "..                                                 ...   \n",
       "495  “Nos toca irnos del país para seguir subsistie...   \n",
       "496  “No le hago mandados a nadie, soy autónomo”: G...   \n",
       "497  Gustavo Bolívar arremete en contra del senador...   \n",
       "498  El ministro del Interior, Alfonso Prada, fue d...   \n",
       "499  “Termina una gesta jurídica”: respuesta de Fra...   \n",
       "\n",
       "                                           description  \n",
       "0    El senador del Pacto Histórico se refirió al c...  \n",
       "1    El expresidente interino de Venezuela llegará ...  \n",
       "2    El funcionario diplomático del Gobierno del pr...  \n",
       "3    El presidente de la Cámara de Representantes e...  \n",
       "4    Aunque esa decisión se pudo tomar desde el sem...  \n",
       "..                                                 ...  \n",
       "495  Los voceros de pequeñas y medianas empresas as...  \n",
       "496  El aspirante afirmó que su “compromiso es con ...  \n",
       "497  El ministro de Hacienda, presente en el debate...  \n",
       "498  Con el Puerto Pisisí esperan mover 1. 630.000 ...  \n",
       "499  Márquez habló de lo sucedido con el congresist...  \n",
       "\n",
       "[492 rows x 4 columns]"
      ]
     },
     "execution_count": 7,
     "metadata": {},
     "output_type": "execute_result"
    }
   ],
   "source": [
    "df"
   ]
  },
  {
   "cell_type": "code",
   "execution_count": 8,
   "id": "dd0f63d2-2f57-41e9-b470-11e7b600b6ba",
   "metadata": {},
   "outputs": [
    {
     "name": "stdout",
     "output_type": "stream",
     "text": [
      "de: 26521\n",
      "la: 18648\n",
      "que: 16888\n",
      "el: 14592\n",
      "en: 12087\n",
      "los: 6466\n",
      "se: 6030\n",
      "del: 5917\n",
      "las: 5102\n",
      "no: 5048\n"
     ]
    }
   ],
   "source": [
    "# Initialize the CountVectorizer\n",
    "vectorizer_count = CountVectorizer(ngram_range=(1,3))\n",
    "\n",
    "# Train the CountVectorizer and transform the texts\n",
    "articles_embeddings = vectorizer_count.fit_transform(df['content']).todense()\n",
    "\n",
    "# Extract the vocabulary and the corresponding frequencies\n",
    "vocabulary = vectorizer_count.get_feature_names_out()\n",
    "frequencies = articles_embeddings.sum(axis=0).A1\n",
    "\n",
    "# Sort the tokens by frequency in descending order\n",
    "sorted_indices = frequencies.argsort()[::-1]\n",
    "\n",
    "# Display the most frequent tokens along with their frequencies\n",
    "for idx in sorted_indices[0:10]:\n",
    "    print(f\"{vocabulary[idx]}: {frequencies[idx]}\")"
   ]
  },
  {
   "cell_type": "code",
   "execution_count": 9,
   "id": "eb7b2608-e0bb-4716-9324-53e1cdf007e3",
   "metadata": {},
   "outputs": [
    {
     "data": {
      "text/plain": [
       "483100"
      ]
     },
     "execution_count": 9,
     "metadata": {},
     "output_type": "execute_result"
    }
   ],
   "source": [
    "len(vocabulary)"
   ]
  },
  {
   "cell_type": "code",
   "execution_count": 10,
   "id": "c9b0e2dd-4ebd-4be1-865a-57b348e5a45b",
   "metadata": {},
   "outputs": [
    {
     "data": {
      "text/plain": [
       "(492, 483100)"
      ]
     },
     "execution_count": 10,
     "metadata": {},
     "output_type": "execute_result"
    }
   ],
   "source": [
    "articles_embeddings.shape"
   ]
  },
  {
   "cell_type": "code",
   "execution_count": 11,
   "id": "ccfa15f5-0e94-4f97-ba7f-18d1a02b7ba2",
   "metadata": {},
   "outputs": [
    {
     "data": {
      "text/plain": [
       "2000"
      ]
     },
     "execution_count": 11,
     "metadata": {},
     "output_type": "execute_result"
    }
   ],
   "source": [
    "# Initialize the CountVectorizer\n",
    "vectorizer_count = CountVectorizer(max_features=2000, ngram_range=(1,3))\n",
    "\n",
    "# Train the CountVectorizer and transform the texts\n",
    "articles_embeddings = vectorizer_count.fit_transform(df['content']).todense()\n",
    "\n",
    "# Extract the vocabulary and the corresponding frequencies\n",
    "vocabulary = vectorizer_count.get_feature_names_out()\n",
    "\n",
    "len(vocabulary)"
   ]
  },
  {
   "cell_type": "code",
   "execution_count": 12,
   "id": "82f631bb-2e21-4f59-b3f2-8dc759574647",
   "metadata": {},
   "outputs": [
    {
     "data": {
      "text/plain": [
       "(492, 2000)"
      ]
     },
     "execution_count": 12,
     "metadata": {},
     "output_type": "execute_result"
    }
   ],
   "source": [
    "articles_embeddings.shape"
   ]
  },
  {
   "cell_type": "code",
   "execution_count": 13,
   "id": "768f5d3f-f39e-4fd0-a35f-b47c25335893",
   "metadata": {},
   "outputs": [
    {
     "data": {
      "text/plain": [
       "['de',\n",
       " 'la',\n",
       " 'que',\n",
       " 'el',\n",
       " 'en',\n",
       " 'y',\n",
       " 'a',\n",
       " 'los',\n",
       " 'del',\n",
       " 'se',\n",
       " 'las',\n",
       " 'por',\n",
       " 'un',\n",
       " 'para',\n",
       " 'con',\n",
       " 'no',\n",
       " 'una',\n",
       " 'su',\n",
       " 'al',\n",
       " 'lo']"
      ]
     },
     "execution_count": 13,
     "metadata": {},
     "output_type": "execute_result"
    }
   ],
   "source": [
    "# Download the NLTK Spanish stopwords if you haven't already\n",
    "spanish_stopwords = nltk.corpus.stopwords.words('spanish')\n",
    "\n",
    "spanish_stopwords[0:20]"
   ]
  },
  {
   "cell_type": "code",
   "execution_count": 14,
   "id": "0adbe35c-7398-489c-8f8c-4c67e129ba85",
   "metadata": {},
   "outputs": [
    {
     "data": {
      "text/plain": [
       "313"
      ]
     },
     "execution_count": 14,
     "metadata": {},
     "output_type": "execute_result"
    }
   ],
   "source": [
    "len(spanish_stopwords)"
   ]
  },
  {
   "cell_type": "code",
   "execution_count": 15,
   "id": "bb6f0970-3889-4b8f-b79e-8c0b2e4d9453",
   "metadata": {},
   "outputs": [
    {
     "name": "stdout",
     "output_type": "stream",
     "text": [
      "petro: 1786\n",
      "gobierno: 1760\n",
      "presidente: 1573\n",
      "semana: 994\n",
      "país: 936\n",
      "colombia: 904\n",
      "gustavo: 896\n",
      "si: 885\n",
      "gustavo petro: 778\n",
      "dijo: 741\n"
     ]
    }
   ],
   "source": [
    "from sklearn.feature_extraction.text import TfidfVectorizer, CountVectorizer\n",
    "import numpy as np\n",
    "import pandas as pd\n",
    "import nltk\n",
    "\n",
    "df = pd.read_csv(\"noticias_sample.csv\").dropna()\n",
    "\n",
    "# Download the NLTK Spanish stopwords if you haven't already\n",
    "spanish_stopwords = nltk.corpus.stopwords.words('spanish')\n",
    "\n",
    "# Initialize the CountVectorizer\n",
    "vectorizer_count = CountVectorizer(max_features=2000, stop_words=spanish_stopwords, ngram_range=(1,3))\n",
    "\n",
    "# Train the CountVectorizer and transform the texts\n",
    "articles_embeddings = vectorizer_count.fit_transform(df['content']).todense()\n",
    "\n",
    "# Extract the vocabulary and the corresponding frequencies\n",
    "vocabulary = vectorizer_count.get_feature_names_out()\n",
    "frequencies = articles_embeddings.sum(axis=0).A1\n",
    "\n",
    "# Sort the tokens by frequency in descending order\n",
    "sorted_indices = frequencies.argsort()[::-1]\n",
    "\n",
    "# Display the most frequent tokens along with their frequencies\n",
    "for idx in sorted_indices[0:10]:\n",
    "    print(f\"{vocabulary[idx]}: {frequencies[idx]}\")"
   ]
  },
  {
   "cell_type": "code",
   "execution_count": 16,
   "id": "1f66f1ef-93ce-4f3d-ad96-84b36c6ada16",
   "metadata": {},
   "outputs": [
    {
     "name": "stdout",
     "output_type": "stream",
     "text": [
      "gustavo petro: 778\n",
      "presidente gustavo: 397\n",
      "presidente gustavo petro: 397\n",
      "pacto histórico: 369\n",
      "presidente petro: 271\n",
      "gobierno nacional: 202\n",
      "centro democrático: 199\n",
      "reforma salud: 176\n",
      "paz total: 162\n",
      "reforma tributaria: 161\n"
     ]
    }
   ],
   "source": [
    "# Initialize the CountVectorizer\n",
    "vectorizer_count = CountVectorizer(max_features=2000, stop_words=spanish_stopwords, ngram_range=(2,3))\n",
    "\n",
    "# Train the CountVectorizer and transform the texts\n",
    "articles_embeddings = vectorizer_count.fit_transform(df['content']).todense()\n",
    "\n",
    "# Extract the vocabulary and the corresponding frequencies\n",
    "vocabulary = vectorizer_count.get_feature_names_out()\n",
    "frequencies = articles_embeddings.sum(axis=0).A1\n",
    "\n",
    "# Sort the tokens by frequency in descending order\n",
    "sorted_indices = frequencies.argsort()[::-1]\n",
    "\n",
    "# Display the most frequent tokens along with their frequencies\n",
    "for idx in sorted_indices[0:10]:\n",
    "    print(f\"{vocabulary[idx]}: {frequencies[idx]}\")"
   ]
  },
  {
   "cell_type": "code",
   "execution_count": 17,
   "id": "02ced6d6-c29b-4178-805f-db8114609d31",
   "metadata": {},
   "outputs": [
    {
     "name": "stderr",
     "output_type": "stream",
     "text": [
      "/Users/zarruk/opt/anaconda3/lib/python3.9/site-packages/sklearn/utils/deprecation.py:87: FutureWarning: Function get_feature_names is deprecated; get_feature_names is deprecated in 1.0 and will be removed in 1.2. Please use get_feature_names_out instead.\n",
      "  warnings.warn(msg, category=FutureWarning)\n"
     ]
    },
    {
     "data": {
      "text/plain": [
       "content             El excandidato presidencial Carlos Amaya se re...\n",
       "date                                         2022-10-05T18:25:44.192Z\n",
       "headline            “Con los altos impuestos al carbón, Boyacá res...\n",
       "description         El exgobernador de ese departamento alertó que...\n",
       "top_tokens_tfidf     minero, sector, carbón, tributaria, departamento\n",
       "top_tokens_count                sector, si, afirmó, van, departamento\n",
       "Name: 81, dtype: object"
      ]
     },
     "execution_count": 17,
     "metadata": {},
     "output_type": "execute_result"
    }
   ],
   "source": [
    "from sklearn.feature_extraction.text import TfidfVectorizer, CountVectorizer\n",
    "import numpy as np\n",
    "import pandas as pd\n",
    "import nltk\n",
    "\n",
    "df = pd.read_csv(\"noticias_sample.csv\").dropna()\n",
    "\n",
    "# Download the NLTK Spanish stopwords if you haven't already\n",
    "spanish_stopwords = nltk.corpus.stopwords.words('spanish')\n",
    "\n",
    "# Initialize the TfidfVectorizer\n",
    "vectorizer_tfidf = TfidfVectorizer(max_features=2000, stop_words=spanish_stopwords, ngram_range=(1,3), lowercase=True)\n",
    "\n",
    "# Train the TfidfVectorizer and transform the texts\n",
    "X_tfidf = vectorizer_tfidf.fit_transform(df['content']).todense()\n",
    "\n",
    "# Initialize the CountVectorizer\n",
    "vectorizer_count = CountVectorizer(max_features=2000, stop_words=spanish_stopwords, ngram_range=(1,3), lowercase=True)\n",
    "\n",
    "# Train the CountVectorizer and transform the texts\n",
    "X_count = vectorizer_count.fit_transform(df['content']).todense()\n",
    "\n",
    "# Get the feature names (tokens) for both vectorizers\n",
    "feature_names_tfidf = vectorizer_tfidf.get_feature_names()\n",
    "feature_names_count = vectorizer_count.get_feature_names()\n",
    "\n",
    "# For each text, find the top five features and print the tokens separated by a comma\n",
    "top_tokens_tfidf = []\n",
    "top_tokens_count = []\n",
    "for i, text in enumerate(df['content']):\n",
    "    row_tfidf = X_tfidf[i][0]\n",
    "    row_count = X_count[i][0]\n",
    "    top_five_feature_indices_tfidf = np.array(row_tfidf.argsort())[0][-5:][::-1]\n",
    "    top_five_feature_indices_count = np.array(row_count.argsort())[0][-5:][::-1]\n",
    "    top_five_feature_tokens_tfidf = \", \".join([feature_names_tfidf[idx] for idx in top_five_feature_indices_tfidf])\n",
    "    top_five_feature_tokens_count = \", \".join([feature_names_count[idx] for idx in top_five_feature_indices_count])\n",
    "    top_tokens_tfidf.append(top_five_feature_tokens_tfidf)\n",
    "    top_tokens_count.append(top_five_feature_tokens_count)\n",
    "\n",
    "# Add the top tokens to the DataFrame\n",
    "df['top_tokens_tfidf'] = top_tokens_tfidf\n",
    "df['top_tokens_count'] = top_tokens_count\n",
    "\n",
    "# Example where TFIDF works better\n",
    "df.iloc[80]"
   ]
  },
  {
   "cell_type": "code",
   "execution_count": 18,
   "id": "da377803-2e93-4b11-99e7-ee157038bf1c",
   "metadata": {},
   "outputs": [
    {
     "data": {
      "text/plain": [
       "'“Con los altos impuestos al carbón, Boyacá resultará pagando buena parte de la reforma tributaria”: Carlos Amaya'"
      ]
     },
     "execution_count": 18,
     "metadata": {},
     "output_type": "execute_result"
    }
   ],
   "source": [
    "df.iloc[80]['headline']"
   ]
  },
  {
   "cell_type": "code",
   "execution_count": 19,
   "id": "850548d4-96f8-48f8-b7f3-cc37c9574ecf",
   "metadata": {},
   "outputs": [
    {
     "data": {
      "text/plain": [
       "'sector, si, afirmó, van, departamento'"
      ]
     },
     "execution_count": 19,
     "metadata": {},
     "output_type": "execute_result"
    }
   ],
   "source": [
    "df.iloc[80]['top_tokens_count']"
   ]
  },
  {
   "cell_type": "code",
   "execution_count": 20,
   "id": "dbdbfb82-a691-4b21-b991-4a4c957ab3a4",
   "metadata": {},
   "outputs": [
    {
     "data": {
      "text/plain": [
       "'minero, sector, carbón, tributaria, departamento'"
      ]
     },
     "execution_count": 20,
     "metadata": {},
     "output_type": "execute_result"
    }
   ],
   "source": [
    "df.iloc[80]['top_tokens_tfidf']"
   ]
  },
  {
   "cell_type": "code",
   "execution_count": 21,
   "id": "595d8a8a-60f9-4b78-a001-5dc381ccd1d9",
   "metadata": {},
   "outputs": [
    {
     "data": {
      "text/plain": [
       "'ministra, empresa, ramírez, capital, si'"
      ]
     },
     "execution_count": 21,
     "metadata": {},
     "output_type": "execute_result"
    }
   ],
   "source": [
    "df.iloc[8]['top_tokens_count']"
   ]
  },
  {
   "cell_type": "code",
   "execution_count": 22,
   "id": "4e6564dc-bbb4-4cdd-93e3-74466b131c48",
   "metadata": {},
   "outputs": [
    {
     "data": {
      "text/plain": [
       "'empresa, ramírez, ministra, capital, lafaurie'"
      ]
     },
     "execution_count": 22,
     "metadata": {},
     "output_type": "execute_result"
    }
   ],
   "source": [
    "df.iloc[8]['top_tokens_tfidf']"
   ]
  },
  {
   "cell_type": "code",
   "execution_count": 27,
   "id": "70e84946-e3df-4cb7-8e42-a63ec4e4e48d",
   "metadata": {},
   "outputs": [
    {
     "data": {
      "text/plain": [
       "'paz, gobierno, acuerdo, país, iván'"
      ]
     },
     "execution_count": 27,
     "metadata": {},
     "output_type": "execute_result"
    }
   ],
   "source": [
    "df.iloc[15]['top_tokens_count']"
   ]
  },
  {
   "cell_type": "code",
   "execution_count": 28,
   "id": "0dcb018d-d3aa-4800-a823-1a9d2d9886e4",
   "metadata": {},
   "outputs": [
    {
     "data": {
      "text/plain": [
       "'paz, farc, mordisco, iván mordisco, iván'"
      ]
     },
     "execution_count": 28,
     "metadata": {},
     "output_type": "execute_result"
    }
   ],
   "source": [
    "df.iloc[15]['top_tokens_tfidf']"
   ]
  }
 ],
 "metadata": {
  "kernelspec": {
   "display_name": "Python 3 (ipykernel)",
   "language": "python",
   "name": "python3"
  },
  "language_info": {
   "codemirror_mode": {
    "name": "ipython",
    "version": 3
   },
   "file_extension": ".py",
   "mimetype": "text/x-python",
   "name": "python",
   "nbconvert_exporter": "python",
   "pygments_lexer": "ipython3",
   "version": "3.9.12"
  }
 },
 "nbformat": 4,
 "nbformat_minor": 5
}
