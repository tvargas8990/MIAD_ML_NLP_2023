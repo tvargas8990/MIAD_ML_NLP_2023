{
 "cells": [
  {
   "cell_type": "code",
   "execution_count": null,
   "id": "35e5b3da-0132-456d-9f63-fbdc2ca0b6dc",
   "metadata": {},
   "outputs": [],
   "source": [
    "import pandas as pd\n",
    "import boto3\n",
    "import io\n",
    "import json\n",
    "\n",
    "s3 = boto3.client('s3')\n",
    "\n",
    "def lambda_handler(event, context):\n",
    "\n",
    "    try:\n",
    "        bucket_name = 'zarruk'\n",
    "        file_name = 'by_year.csv'\n",
    "        csv_obj = s3.get_object(Bucket=bucket_name, Key=file_name)\n",
    "        body = csv_obj['Body'].read()\n",
    "\n",
    "        df = pd.read_csv(io.StringIO(body))\n",
    "\n",
    "        grouped_df = df[df['year'] == event['year']]\n",
    "\n",
    "        data = grouped_df.to_dict()\n",
    "\n",
    "        return {\n",
    "            'statusCode': 200,\n",
    "            'body': json.dumps(data)\n",
    "        }\n",
    "    except Exception as e:\n",
    "        return {\n",
    "            'statusCode': 500,\n",
    "            'body': str(e)\n",
    "        }\n"
   ]
  }
 ],
 "metadata": {
  "kernelspec": {
   "display_name": "Python 3 (ipykernel)",
   "language": "python",
   "name": "python3"
  },
  "language_info": {
   "codemirror_mode": {
    "name": "ipython",
    "version": 3
   },
   "file_extension": ".py",
   "mimetype": "text/x-python",
   "name": "python",
   "nbconvert_exporter": "python",
   "pygments_lexer": "ipython3",
   "version": "3.9.12"
  }
 },
 "nbformat": 4,
 "nbformat_minor": 5
}
