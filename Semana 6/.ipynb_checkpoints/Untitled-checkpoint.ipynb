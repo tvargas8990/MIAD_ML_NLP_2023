{
 "cells": [
  {
   "cell_type": "code",
   "execution_count": null,
   "id": "66be8dbc-3c74-4ffc-a0ca-96b0cd79bd0e",
   "metadata": {},
   "outputs": [],
   "source": [
    "import numpy as np\n",
    "from keras.models import Sequential\n",
    "from keras.layers import Dense\n",
    "\n",
    "# Generate dummy data\n",
    "x_train = np.random.random((1000, 20))  # 1000 samples with 20 features\n",
    "y_train = np.random.randint(2, size=(1000, 1))  # Binary labels (0 or 1)\n",
    "\n",
    "# Define the model architecture\n",
    "model = Sequential()\n",
    "model.add(Dense(64, activation='relu', input_dim=20))\n",
    "model.add(Dense(64, activation='relu'))\n",
    "\n",
    "model.add(Dense(1, activation='sigmoid'))\n",
    "\n",
    "# Compile the model\n",
    "model.compile(optimizer='adam', loss='binary_crossentropy', metrics=['accuracy'])\n",
    "\n",
    "# Train the model\n",
    "model.fit(x_train, y_train, epochs=10, batch_size=32, validation_split=0.2)\n"
   ]
  },
  {
   "cell_type": "code",
   "execution_count": null,
   "id": "d79d2f8e-931a-42dd-82bb-93a3da684a6f",
   "metadata": {},
   "outputs": [],
   "source": [
    "# Define the overfitting model architecture\n",
    "model_overfit = Sequential()\n",
    "model_overfit.add(Dense(256, activation='relu', input_dim=20))\n",
    "model_overfit.add(Dense(512, activation='relu'))\n",
    "model_overfit.add(Dense(512, activation='relu'))\n",
    "model_overfit.add(Dense(1, activation='sigmoid'))\n",
    "\n",
    "# Compile and train the overfitting model\n",
    "model_overfit.compile(optimizer='adam', loss='binary_crossentropy', metrics=['accuracy'])\n",
    "model_overfit.fit(x_train, y_train, epochs=50, batch_size=32, validation_split=0.2)\n"
   ]
  }
 ],
 "metadata": {
  "kernelspec": {
   "display_name": "Python 3 (ipykernel)",
   "language": "python",
   "name": "python3"
  },
  "language_info": {
   "codemirror_mode": {
    "name": "ipython",
    "version": 3
   },
   "file_extension": ".py",
   "mimetype": "text/x-python",
   "name": "python",
   "nbconvert_exporter": "python",
   "pygments_lexer": "ipython3",
   "version": "3.9.12"
  }
 },
 "nbformat": 4,
 "nbformat_minor": 5
}
